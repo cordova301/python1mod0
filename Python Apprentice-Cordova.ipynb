{
 "cells": [
  {
   "cell_type": "markdown",
   "id": "6fe6bfac",
   "metadata": {},
   "source": [
    "#Marvin Cordova\n",
    "\n",
    "#Network Engineer \n",
    "\n",
    "#Kayaking, hiking, and water sports"
   ]
  },
  {
   "cell_type": "code",
   "execution_count": null,
   "id": "24c42139",
   "metadata": {},
   "outputs": [],
   "source": []
  }
 ],
 "metadata": {
  "kernelspec": {
   "display_name": "Python 3 (ipykernel)",
   "language": "python",
   "name": "python3"
  },
  "language_info": {
   "codemirror_mode": {
    "name": "ipython",
    "version": 3
   },
   "file_extension": ".py",
   "mimetype": "text/x-python",
   "name": "python",
   "nbconvert_exporter": "python",
   "pygments_lexer": "ipython3",
   "version": "3.10.9"
  }
 },
 "nbformat": 4,
 "nbformat_minor": 5
}
